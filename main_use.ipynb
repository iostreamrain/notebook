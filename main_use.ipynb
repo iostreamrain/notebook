{
  "nbformat": 4,
  "nbformat_minor": 0,
  "metadata": {
    "colab": {
      "name": "main_use.ipynb",
      "version": "0.3.2",
      "provenance": [],
      "collapsed_sections": [],
      "include_colab_link": true
    },
    "language_info": {
      "codemirror_mode": {
        "name": "ipython",
        "version": 3
      },
      "file_extension": ".py",
      "mimetype": "text/x-python",
      "name": "python",
      "nbconvert_exporter": "python",
      "pygments_lexer": "ipython3",
      "version": "3.6.5"
    },
    "kernelspec": {
      "display_name": "Python 3",
      "language": "python",
      "name": "python3"
    }
  },
  "cells": [
    {
      "cell_type": "markdown",
      "metadata": {
        "id": "view-in-github",
        "colab_type": "text"
      },
      "source": [
        "<a href=\"https://colab.research.google.com/github/iostreamrain/notebook/blob/master/main_use.ipynb\" target=\"_parent\"><img src=\"https://colab.research.google.com/assets/colab-badge.svg\" alt=\"Open In Colab\"/></a>"
      ]
    },
    {
      "metadata": {
        "id": "io_38oYmxiIN",
        "colab_type": "code",
        "colab": {}
      },
      "cell_type": "code",
      "source": [
        "!wget -c https://raw.githubusercontent.com/iostreamrain/notebook/iostreamrain-patch-1/AdaIN.py\n",
        "!wget -c https://s3.amazonaws.com/xunhuang-public/adain/decoder.t7\n",
        "!wget -c https://s3.amazonaws.com/xunhuang-public/adain/decoder-content-similar.t7\n",
        "!wget -c https://s3.amazonaws.com/xunhuang-public/adain/vgg_normalised.t7"
      ],
      "execution_count": 0,
      "outputs": []
    },
    {
      "metadata": {
        "id": "mF2MXmP5O0Xv",
        "colab_type": "code",
        "colab": {}
      },
      "cell_type": "code",
      "source": [
        "!git clone https://github.com/bshillingford/python-torchfile.git\n",
        "!mv ./python-torchfile/* .\n",
        "!python setup.py install\n",
        "!ls"
      ],
      "execution_count": 0,
      "outputs": []
    },
    {
      "metadata": {
        "id": "uDAkPpWJzHM3",
        "colab_type": "code",
        "colab": {}
      },
      "cell_type": "code",
      "source": [
        "\n",
        "import matplotlib.pyplot as plt\n",
        "import importlib\n",
        "import AdaIN\n",
        "importlib.reload(AdaIN)"
      ],
      "execution_count": 0,
      "outputs": []
    },
    {
      "metadata": {
        "id": "8jSgGtN8z4M4",
        "colab_type": "code",
        "outputId": "27c8a197-293a-46c1-a82e-1ef886464513",
        "colab": {
          "base_uri": "https://localhost:8080/",
          "height": 117
        }
      },
      "cell_type": "code",
      "source": [
        "from google.colab import files\n",
        "files.upload()\n",
        "!ls"
      ],
      "execution_count": 0,
      "outputs": []
    },
    {
      "metadata": {
        "id": "sJ-ZU5hzU-Dl",
        "colab_type": "code",
        "colab": {
          "base_uri": "https://localhost:8080/",
          "height": 119
        },
        "outputId": "53174841-814a-42d8-a38c-33718bd697ce"
      },
      "cell_type": "code",
      "source": [
        "!ls"
      ],
      "execution_count": 29,
      "outputs": [
        {
          "output_type": "stream",
          "text": [
            " AdaIN.py\t\t      __pycache__\t testfiles_x86_64\n",
            " BBRwzFL.jpeg\t\t      python-torchfile\t tests.py\n",
            " build\t\t\t      README.md\t\t'timg (1).jpeg'\n",
            " decoder-content-similar.t7   sample_data\t torchfile.py\n",
            " decoder.t7\t\t      setup.cfg\t\t vgg_normalised.t7\n",
            " LICENSE\t\t      setup.py\n"
          ],
          "name": "stdout"
        }
      ]
    },
    {
      "metadata": {
        "id": "YWQY4Tc7xiIT",
        "colab_type": "code",
        "colab": {}
      },
      "cell_type": "code",
      "source": [
        "\n",
        "content_style_pairs = [ ['BBRwzFL.jpeg', 'timg (1).jpeg'],\n",
        "#                         ['input/content/brad_pitt.jpg', 'input/style/402.jpg'],\n",
        "#                         ['input/content/cat.jpg', 'input/style/404.jpg'],\n",
        "#                        ['input/content/sailboat.jpg', 'input/style/401.jpg'],\n",
        "#                        ['input/content/sailboat.jpg', 'input/style/404.jpg'],\n",
        "#                         ['input/content/cornell.jpg', 'input/style/woman_with_hat_matisse.jpg'],\n",
        "#                         ['input/content/lenna.jpg', 'input/style/en_campo_gris.jpg'],\n",
        "#                         ['input/content/sailboat.jpg', 'input/style/sketch.png'],\n",
        "#                         ['input/content/modern.jpg', 'input/style/goeritz.jpg'],\n",
        "                      ]\n",
        "\n",
        "decoder_t7 = 'decoder.t7'\n",
        "vgg_t7 = 'vgg_normalised.t7'\n",
        "\n",
        "for i in range(3):\n",
        "    alpha = (i*3)/10+0.4\n",
        "    print(alpha)\n",
        "    for content, style in content_style_pairs:\n",
        "        stylized, content_image, style_image = AdaIN.stylize(content, style, vgg_t7, decoder_t7, alpha=alpha)\n",
        "        fig = plt.figure(figsize=(15,30))\n",
        "        a=fig.add_subplot(1,3,1)\n",
        "        plt.imshow(AdaIN.any_to_uint8_clip(content_image))\n",
        "        a=fig.add_subplot(1,3,2)\n",
        "        plt.imshow(AdaIN.any_to_uint8_clip(style_image))\n",
        "        a=fig.add_subplot(1,3,3)\n",
        "        plt.imshow(AdaIN.any_to_uint8_clip(stylized))\n",
        "        plt.show()"
      ],
      "execution_count": 0,
      "outputs": []
    },
    {
      "metadata": {
        "id": "G7ZdthYpxiIa",
        "colab_type": "code",
        "colab": {}
      },
      "cell_type": "code",
      "source": [
        "content_style_pairs = [ ['input/content/doctor.jpg', 'input/style/ink_smaller.jpg'],\n",
        "                      ]\n",
        "\n",
        "decoder_t7 = 'models/decoder.t7'\n",
        "vgg_t7 = 'models/vgg_normalised.t7'\n",
        "\n",
        "for i in range(3):\n",
        "    alpha = (i*3)/10+0.4\n",
        "    print(alpha)\n",
        "    for content, style in content_style_pairs:\n",
        "        stylized, content_image, style_image = AdaIN.stylize(content, style, vgg_t7, decoder_t7, alpha=alpha)\n",
        "        fig = plt.figure(figsize=(15,30))\n",
        "        a=fig.add_subplot(1,3,1)\n",
        "        plt.imshow(AdaIN.any_to_uint8_clip(content_image))\n",
        "        a=fig.add_subplot(1,3,2)\n",
        "        plt.imshow(AdaIN.any_to_uint8_clip(style_image))\n",
        "        a=fig.add_subplot(1,3,3)\n",
        "        plt.imshow(AdaIN.any_to_uint8_clip(stylized))\n",
        "        plt.show()"
      ],
      "execution_count": 0,
      "outputs": []
    }
  ]
}